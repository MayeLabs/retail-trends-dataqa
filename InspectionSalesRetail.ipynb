{
 "cells": [
  {
   "cell_type": "markdown",
   "id": "78b452de-dd23-43fe-8d6b-1b2015b5b1ef",
   "metadata": {},
   "source": [
    "# Import data"
   ]
  },
  {
   "cell_type": "code",
   "execution_count": 21,
   "id": "cc0d2231-227a-4762-9a76-57c3bf5883f5",
   "metadata": {},
   "outputs": [],
   "source": [
    "import pandas as pd\n",
    "import kagglehub\n",
    "import os"
   ]
  },
  {
   "cell_type": "markdown",
   "id": "4cd08a51-0b5a-4d58-bb2c-80fd8955d956",
   "metadata": {
    "jp-MarkdownHeadingCollapsed": true
   },
   "source": [
    "### Version 2 - Dataset isn't the key features"
   ]
  },
  {
   "cell_type": "code",
   "execution_count": 25,
   "id": "02912c93-5878-4d97-ade1-23253f2b8c61",
   "metadata": {},
   "outputs": [],
   "source": [
    "\n",
    "# Download latest version - Version 2\n",
    "path = kagglehub.dataset_download(\"abdullah0a/retail-sales-data-with-seasonal-trends-and-marketing\")\n",
    "csv_path_v2 = os.path.join(path, \"Retail and wherehouse Sale.csv\")\n"
   ]
  },
  {
   "cell_type": "code",
   "execution_count": 26,
   "id": "bb81b934-62c7-4543-b436-34c5ff12908e",
   "metadata": {},
   "outputs": [],
   "source": [
    "retail_v2 = pd.read_csv(csv_path_v2, index_col=0)"
   ]
  },
  {
   "cell_type": "code",
   "execution_count": 27,
   "id": "34e0d6cd-2db6-4dd4-b1ca-e0377480f6b6",
   "metadata": {},
   "outputs": [
    {
     "data": {
      "text/html": [
       "<div>\n",
       "<style scoped>\n",
       "    .dataframe tbody tr th:only-of-type {\n",
       "        vertical-align: middle;\n",
       "    }\n",
       "\n",
       "    .dataframe tbody tr th {\n",
       "        vertical-align: top;\n",
       "    }\n",
       "\n",
       "    .dataframe thead th {\n",
       "        text-align: right;\n",
       "    }\n",
       "</style>\n",
       "<table border=\"1\" class=\"dataframe\">\n",
       "  <thead>\n",
       "    <tr style=\"text-align: right;\">\n",
       "      <th></th>\n",
       "      <th>MONTH</th>\n",
       "      <th>SUPPLIER</th>\n",
       "      <th>ITEM CODE</th>\n",
       "      <th>ITEM DESCRIPTION</th>\n",
       "      <th>ITEM TYPE</th>\n",
       "      <th>RETAIL SALES</th>\n",
       "      <th>RETAIL TRANSFERS</th>\n",
       "      <th>WAREHOUSE SALES</th>\n",
       "    </tr>\n",
       "    <tr>\n",
       "      <th>YEAR</th>\n",
       "      <th></th>\n",
       "      <th></th>\n",
       "      <th></th>\n",
       "      <th></th>\n",
       "      <th></th>\n",
       "      <th></th>\n",
       "      <th></th>\n",
       "      <th></th>\n",
       "    </tr>\n",
       "  </thead>\n",
       "  <tbody>\n",
       "    <tr>\n",
       "      <th>2020</th>\n",
       "      <td>1</td>\n",
       "      <td>REPUBLIC NATIONAL DISTRIBUTING CO</td>\n",
       "      <td>100009</td>\n",
       "      <td>BOOTLEG RED - 750ML</td>\n",
       "      <td>WINE</td>\n",
       "      <td>0.00</td>\n",
       "      <td>0.0</td>\n",
       "      <td>2.0</td>\n",
       "    </tr>\n",
       "    <tr>\n",
       "      <th>2020</th>\n",
       "      <td>1</td>\n",
       "      <td>PWSWN INC</td>\n",
       "      <td>100024</td>\n",
       "      <td>MOMENT DE PLAISIR - 750ML</td>\n",
       "      <td>WINE</td>\n",
       "      <td>0.00</td>\n",
       "      <td>1.0</td>\n",
       "      <td>4.0</td>\n",
       "    </tr>\n",
       "    <tr>\n",
       "      <th>2020</th>\n",
       "      <td>1</td>\n",
       "      <td>RELIABLE CHURCHILL LLLP</td>\n",
       "      <td>1001</td>\n",
       "      <td>S SMITH ORGANIC PEAR CIDER - 18.7OZ</td>\n",
       "      <td>BEER</td>\n",
       "      <td>0.00</td>\n",
       "      <td>0.0</td>\n",
       "      <td>1.0</td>\n",
       "    </tr>\n",
       "    <tr>\n",
       "      <th>2020</th>\n",
       "      <td>1</td>\n",
       "      <td>LANTERNA DISTRIBUTORS INC</td>\n",
       "      <td>100145</td>\n",
       "      <td>SCHLINK HAUS KABINETT - 750ML</td>\n",
       "      <td>WINE</td>\n",
       "      <td>0.00</td>\n",
       "      <td>0.0</td>\n",
       "      <td>1.0</td>\n",
       "    </tr>\n",
       "    <tr>\n",
       "      <th>2020</th>\n",
       "      <td>1</td>\n",
       "      <td>DIONYSOS IMPORTS INC</td>\n",
       "      <td>100293</td>\n",
       "      <td>SANTORINI GAVALA WHITE - 750ML</td>\n",
       "      <td>WINE</td>\n",
       "      <td>0.82</td>\n",
       "      <td>0.0</td>\n",
       "      <td>0.0</td>\n",
       "    </tr>\n",
       "  </tbody>\n",
       "</table>\n",
       "</div>"
      ],
      "text/plain": [
       "      MONTH                           SUPPLIER ITEM CODE  \\\n",
       "YEAR                                                       \n",
       "2020      1  REPUBLIC NATIONAL DISTRIBUTING CO    100009   \n",
       "2020      1                          PWSWN INC    100024   \n",
       "2020      1            RELIABLE CHURCHILL LLLP      1001   \n",
       "2020      1          LANTERNA DISTRIBUTORS INC    100145   \n",
       "2020      1               DIONYSOS IMPORTS INC    100293   \n",
       "\n",
       "                         ITEM DESCRIPTION ITEM TYPE  RETAIL SALES  \\\n",
       "YEAR                                                                \n",
       "2020                  BOOTLEG RED - 750ML      WINE          0.00   \n",
       "2020            MOMENT DE PLAISIR - 750ML      WINE          0.00   \n",
       "2020  S SMITH ORGANIC PEAR CIDER - 18.7OZ      BEER          0.00   \n",
       "2020        SCHLINK HAUS KABINETT - 750ML      WINE          0.00   \n",
       "2020       SANTORINI GAVALA WHITE - 750ML      WINE          0.82   \n",
       "\n",
       "      RETAIL TRANSFERS  WAREHOUSE SALES  \n",
       "YEAR                                     \n",
       "2020               0.0              2.0  \n",
       "2020               1.0              4.0  \n",
       "2020               0.0              1.0  \n",
       "2020               0.0              1.0  \n",
       "2020               0.0              0.0  "
      ]
     },
     "execution_count": 27,
     "metadata": {},
     "output_type": "execute_result"
    }
   ],
   "source": [
    "retail_v2.head()"
   ]
  },
  {
   "cell_type": "markdown",
   "id": "2de15b59-8a9f-458d-8759-066d31a9b12c",
   "metadata": {},
   "source": [
    "### Version 1 - Dataset is the key features"
   ]
  },
  {
   "cell_type": "markdown",
   "id": "30abf997-4451-416d-a64f-d80d9ae38706",
   "metadata": {},
   "source": [
    "#### Phase I: Downloand and initial inspection "
   ]
  },
  {
   "cell_type": "code",
   "execution_count": 31,
   "id": "8d86326d-cc89-4ba6-91bd-d92148c70e5a",
   "metadata": {},
   "outputs": [],
   "source": [
    "# Download latest version\n",
    "path = kagglehub.dataset_download(\"delafuenteo/retail-sales-csv\")\n",
    "csv_path = os.path.join(path, 'Retail_sales.csv')\n",
    "\n",
    "retail_sales = pd.read_csv(csv_path, index_col=0)"
   ]
  },
  {
   "cell_type": "code",
   "execution_count": 30,
   "id": "3d6fe549-b89e-4a77-ab36-bff5e1a67713",
   "metadata": {},
   "outputs": [
    {
     "data": {
      "text/html": [
       "<div>\n",
       "<style scoped>\n",
       "    .dataframe tbody tr th:only-of-type {\n",
       "        vertical-align: middle;\n",
       "    }\n",
       "\n",
       "    .dataframe tbody tr th {\n",
       "        vertical-align: top;\n",
       "    }\n",
       "\n",
       "    .dataframe thead th {\n",
       "        text-align: right;\n",
       "    }\n",
       "</style>\n",
       "<table border=\"1\" class=\"dataframe\">\n",
       "  <thead>\n",
       "    <tr style=\"text-align: right;\">\n",
       "      <th></th>\n",
       "      <th>Product ID</th>\n",
       "      <th>Date</th>\n",
       "      <th>Units Sold</th>\n",
       "      <th>Sales Revenue (USD)</th>\n",
       "      <th>Discount Percentage</th>\n",
       "      <th>Marketing Spend (USD)</th>\n",
       "      <th>Store Location</th>\n",
       "      <th>Product Category</th>\n",
       "      <th>Day of the Week</th>\n",
       "      <th>Holiday Effect</th>\n",
       "    </tr>\n",
       "    <tr>\n",
       "      <th>Store ID</th>\n",
       "      <th></th>\n",
       "      <th></th>\n",
       "      <th></th>\n",
       "      <th></th>\n",
       "      <th></th>\n",
       "      <th></th>\n",
       "      <th></th>\n",
       "      <th></th>\n",
       "      <th></th>\n",
       "      <th></th>\n",
       "    </tr>\n",
       "  </thead>\n",
       "  <tbody>\n",
       "    <tr>\n",
       "      <th>Spearsland</th>\n",
       "      <td>52372247</td>\n",
       "      <td>2022-01-01</td>\n",
       "      <td>9</td>\n",
       "      <td>2741.69</td>\n",
       "      <td>20</td>\n",
       "      <td>81</td>\n",
       "      <td>Tanzania</td>\n",
       "      <td>Furniture</td>\n",
       "      <td>Saturday</td>\n",
       "      <td>False</td>\n",
       "    </tr>\n",
       "    <tr>\n",
       "      <th>Spearsland</th>\n",
       "      <td>52372247</td>\n",
       "      <td>2022-01-02</td>\n",
       "      <td>7</td>\n",
       "      <td>2665.53</td>\n",
       "      <td>0</td>\n",
       "      <td>0</td>\n",
       "      <td>Mauritania</td>\n",
       "      <td>Furniture</td>\n",
       "      <td>Sunday</td>\n",
       "      <td>False</td>\n",
       "    </tr>\n",
       "    <tr>\n",
       "      <th>Spearsland</th>\n",
       "      <td>52372247</td>\n",
       "      <td>2022-01-03</td>\n",
       "      <td>1</td>\n",
       "      <td>380.79</td>\n",
       "      <td>0</td>\n",
       "      <td>0</td>\n",
       "      <td>Saint Pierre and Miquelon</td>\n",
       "      <td>Furniture</td>\n",
       "      <td>Monday</td>\n",
       "      <td>False</td>\n",
       "    </tr>\n",
       "    <tr>\n",
       "      <th>Spearsland</th>\n",
       "      <td>52372247</td>\n",
       "      <td>2022-01-04</td>\n",
       "      <td>4</td>\n",
       "      <td>1523.16</td>\n",
       "      <td>0</td>\n",
       "      <td>0</td>\n",
       "      <td>Australia</td>\n",
       "      <td>Furniture</td>\n",
       "      <td>Tuesday</td>\n",
       "      <td>False</td>\n",
       "    </tr>\n",
       "    <tr>\n",
       "      <th>Spearsland</th>\n",
       "      <td>52372247</td>\n",
       "      <td>2022-01-05</td>\n",
       "      <td>2</td>\n",
       "      <td>761.58</td>\n",
       "      <td>0</td>\n",
       "      <td>0</td>\n",
       "      <td>Swaziland</td>\n",
       "      <td>Furniture</td>\n",
       "      <td>Wednesday</td>\n",
       "      <td>False</td>\n",
       "    </tr>\n",
       "  </tbody>\n",
       "</table>\n",
       "</div>"
      ],
      "text/plain": [
       "            Product ID        Date  Units Sold  Sales Revenue (USD)  \\\n",
       "Store ID                                                              \n",
       "Spearsland    52372247  2022-01-01           9              2741.69   \n",
       "Spearsland    52372247  2022-01-02           7              2665.53   \n",
       "Spearsland    52372247  2022-01-03           1               380.79   \n",
       "Spearsland    52372247  2022-01-04           4              1523.16   \n",
       "Spearsland    52372247  2022-01-05           2               761.58   \n",
       "\n",
       "            Discount Percentage  Marketing Spend (USD)  \\\n",
       "Store ID                                                 \n",
       "Spearsland                   20                     81   \n",
       "Spearsland                    0                      0   \n",
       "Spearsland                    0                      0   \n",
       "Spearsland                    0                      0   \n",
       "Spearsland                    0                      0   \n",
       "\n",
       "                       Store Location Product Category Day of the Week  \\\n",
       "Store ID                                                                 \n",
       "Spearsland                   Tanzania        Furniture        Saturday   \n",
       "Spearsland                 Mauritania        Furniture          Sunday   \n",
       "Spearsland  Saint Pierre and Miquelon        Furniture          Monday   \n",
       "Spearsland                  Australia        Furniture         Tuesday   \n",
       "Spearsland                  Swaziland        Furniture       Wednesday   \n",
       "\n",
       "            Holiday Effect  \n",
       "Store ID                    \n",
       "Spearsland           False  \n",
       "Spearsland           False  \n",
       "Spearsland           False  \n",
       "Spearsland           False  \n",
       "Spearsland           False  "
      ]
     },
     "execution_count": 30,
     "metadata": {},
     "output_type": "execute_result"
    }
   ],
   "source": [
    "retail_sales.head()"
   ]
  },
  {
   "cell_type": "code",
   "execution_count": 8,
   "id": "13887daa-bd1a-4448-8685-7b0b2875c2ab",
   "metadata": {},
   "outputs": [
    {
     "data": {
      "text/plain": [
       "array([52372247,  3636541, 14258596, 34875230, 73978756, 34892534,\n",
       "        9529489, 16840607, 60070623, 36491025, 80767985, 30776388,\n",
       "       65656938,  8978790, 64503400, 65593523, 44234706,  9189980,\n",
       "       38511400,  8914811, 29925957, 22286000, 90008474, 62375351,\n",
       "        6741754, 86469371, 89528563, 93691949, 40024486, 56655933,\n",
       "       56183269, 47856080, 81218219, 24102292,  8628619, 71215150,\n",
       "       96282526, 22571670, 18794205, 47345331, 22928719, 50239115])"
      ]
     },
     "execution_count": 8,
     "metadata": {},
     "output_type": "execute_result"
    }
   ],
   "source": [
    "retail_sales['Product ID'].unique()"
   ]
  },
  {
   "cell_type": "markdown",
   "id": "600fece5-3590-4ce1-a012-1b7ad73825e2",
   "metadata": {},
   "source": [
    "Key Features:\n",
    "* Sales Revenue (USD): Total revenue generated from sales. / Ingresos generados por las ventas\n",
    "* Units Sold: Quantity of items sold. / Cantidad\n",
    "* Discount Percentage: The percentage discount applied to products. / Descuento aplicado\n",
    "* Marketing Spend (USD): Budget allocated to marketing efforts./ Presupuesto a iniciativas de marketing\n",
    "* Store ID: Identifier for the retail store. /ID tienda\n",
    "* Product Category: The category to which the product belongs (e.g., Electronics, Clothing).\n",
    "* Date: The date when the sale occurred./ Fecha de venta\n",
    "* Store Location: Geographic location of the store.\n",
    "* Day of the Week: Day when the sale took place. / Dia de venta\n",
    "* Holiday Effect: Indicator of whether the sale happened during a holiday period./ Occurrio en un holiday ?"
   ]
  },
  {
   "cell_type": "code",
   "execution_count": 40,
   "id": "ee5223b3-86e7-4c94-939e-dea6956599d7",
   "metadata": {},
   "outputs": [
    {
     "data": {
      "text/plain": [
       "Product ID                 int64\n",
       "Date                      object\n",
       "Units Sold                 int64\n",
       "Sales Revenue (USD)      float64\n",
       "Discount Percentage        int64\n",
       "Marketing Spend (USD)      int64\n",
       "Store Location            object\n",
       "Product Category          object\n",
       "Day of the Week           object\n",
       "Holiday Effect              bool\n",
       "dtype: object"
      ]
     },
     "execution_count": 40,
     "metadata": {},
     "output_type": "execute_result"
    }
   ],
   "source": [
    "retail_sales.dtypes"
   ]
  },
  {
   "cell_type": "code",
   "execution_count": 42,
   "id": "a61c49ca-1979-4ff2-88d9-d0db50955b65",
   "metadata": {},
   "outputs": [
    {
     "name": "stdout",
     "output_type": "stream",
     "text": [
      "<class 'pandas.core.frame.DataFrame'>\n",
      "Index: 30000 entries, Spearsland to Spearsland\n",
      "Data columns (total 10 columns):\n",
      " #   Column                 Non-Null Count  Dtype  \n",
      "---  ------                 --------------  -----  \n",
      " 0   Product ID             30000 non-null  int64  \n",
      " 1   Date                   30000 non-null  object \n",
      " 2   Units Sold             30000 non-null  int64  \n",
      " 3   Sales Revenue (USD)    30000 non-null  float64\n",
      " 4   Discount Percentage    30000 non-null  int64  \n",
      " 5   Marketing Spend (USD)  30000 non-null  int64  \n",
      " 6   Store Location         30000 non-null  object \n",
      " 7   Product Category       30000 non-null  object \n",
      " 8   Day of the Week        30000 non-null  object \n",
      " 9   Holiday Effect         30000 non-null  bool   \n",
      "dtypes: bool(1), float64(1), int64(4), object(4)\n",
      "memory usage: 2.3+ MB\n"
     ]
    }
   ],
   "source": [
    "retail_sales.info()"
   ]
  },
  {
   "cell_type": "code",
   "execution_count": 44,
   "id": "055e6433-f1c4-4be1-affc-a728833c5725",
   "metadata": {},
   "outputs": [
    {
     "data": {
      "text/html": [
       "<div>\n",
       "<style scoped>\n",
       "    .dataframe tbody tr th:only-of-type {\n",
       "        vertical-align: middle;\n",
       "    }\n",
       "\n",
       "    .dataframe tbody tr th {\n",
       "        vertical-align: top;\n",
       "    }\n",
       "\n",
       "    .dataframe thead th {\n",
       "        text-align: right;\n",
       "    }\n",
       "</style>\n",
       "<table border=\"1\" class=\"dataframe\">\n",
       "  <thead>\n",
       "    <tr style=\"text-align: right;\">\n",
       "      <th></th>\n",
       "      <th>Product ID</th>\n",
       "      <th>Units Sold</th>\n",
       "      <th>Sales Revenue (USD)</th>\n",
       "      <th>Discount Percentage</th>\n",
       "      <th>Marketing Spend (USD)</th>\n",
       "    </tr>\n",
       "  </thead>\n",
       "  <tbody>\n",
       "    <tr>\n",
       "      <th>count</th>\n",
       "      <td>3.000000e+04</td>\n",
       "      <td>30000.000000</td>\n",
       "      <td>30000.000000</td>\n",
       "      <td>30000.000000</td>\n",
       "      <td>30000.000000</td>\n",
       "    </tr>\n",
       "    <tr>\n",
       "      <th>mean</th>\n",
       "      <td>4.461294e+07</td>\n",
       "      <td>6.161967</td>\n",
       "      <td>2749.509593</td>\n",
       "      <td>2.973833</td>\n",
       "      <td>49.944033</td>\n",
       "    </tr>\n",
       "    <tr>\n",
       "      <th>std</th>\n",
       "      <td>2.779759e+07</td>\n",
       "      <td>3.323929</td>\n",
       "      <td>2568.639288</td>\n",
       "      <td>5.974530</td>\n",
       "      <td>64.401655</td>\n",
       "    </tr>\n",
       "    <tr>\n",
       "      <th>min</th>\n",
       "      <td>3.636541e+06</td>\n",
       "      <td>0.000000</td>\n",
       "      <td>0.000000</td>\n",
       "      <td>0.000000</td>\n",
       "      <td>0.000000</td>\n",
       "    </tr>\n",
       "    <tr>\n",
       "      <th>25%</th>\n",
       "      <td>2.228600e+07</td>\n",
       "      <td>4.000000</td>\n",
       "      <td>882.592500</td>\n",
       "      <td>0.000000</td>\n",
       "      <td>0.000000</td>\n",
       "    </tr>\n",
       "    <tr>\n",
       "      <th>50%</th>\n",
       "      <td>4.002449e+07</td>\n",
       "      <td>6.000000</td>\n",
       "      <td>1902.420000</td>\n",
       "      <td>0.000000</td>\n",
       "      <td>1.000000</td>\n",
       "    </tr>\n",
       "    <tr>\n",
       "      <th>75%</th>\n",
       "      <td>6.559352e+07</td>\n",
       "      <td>8.000000</td>\n",
       "      <td>3863.920000</td>\n",
       "      <td>0.000000</td>\n",
       "      <td>100.000000</td>\n",
       "    </tr>\n",
       "    <tr>\n",
       "      <th>max</th>\n",
       "      <td>9.628253e+07</td>\n",
       "      <td>56.000000</td>\n",
       "      <td>27165.880000</td>\n",
       "      <td>20.000000</td>\n",
       "      <td>199.000000</td>\n",
       "    </tr>\n",
       "  </tbody>\n",
       "</table>\n",
       "</div>"
      ],
      "text/plain": [
       "         Product ID    Units Sold  Sales Revenue (USD)  Discount Percentage  \\\n",
       "count  3.000000e+04  30000.000000         30000.000000         30000.000000   \n",
       "mean   4.461294e+07      6.161967          2749.509593             2.973833   \n",
       "std    2.779759e+07      3.323929          2568.639288             5.974530   \n",
       "min    3.636541e+06      0.000000             0.000000             0.000000   \n",
       "25%    2.228600e+07      4.000000           882.592500             0.000000   \n",
       "50%    4.002449e+07      6.000000          1902.420000             0.000000   \n",
       "75%    6.559352e+07      8.000000          3863.920000             0.000000   \n",
       "max    9.628253e+07     56.000000         27165.880000            20.000000   \n",
       "\n",
       "       Marketing Spend (USD)  \n",
       "count           30000.000000  \n",
       "mean               49.944033  \n",
       "std                64.401655  \n",
       "min                 0.000000  \n",
       "25%                 0.000000  \n",
       "50%                 1.000000  \n",
       "75%               100.000000  \n",
       "max               199.000000  "
      ]
     },
     "execution_count": 44,
     "metadata": {},
     "output_type": "execute_result"
    }
   ],
   "source": [
    "retail_sales.describe()"
   ]
  },
  {
   "cell_type": "code",
   "execution_count": 45,
   "id": "89f9a287-2a65-4bfc-a213-7a919f5777cc",
   "metadata": {},
   "outputs": [
    {
     "data": {
      "text/plain": [
       "Product ID               0\n",
       "Date                     0\n",
       "Units Sold               0\n",
       "Sales Revenue (USD)      0\n",
       "Discount Percentage      0\n",
       "Marketing Spend (USD)    0\n",
       "Store Location           0\n",
       "Product Category         0\n",
       "Day of the Week          0\n",
       "Holiday Effect           0\n",
       "dtype: int64"
      ]
     },
     "execution_count": 45,
     "metadata": {},
     "output_type": "execute_result"
    }
   ],
   "source": [
    "retail_sales.isnull().sum()"
   ]
  },
  {
   "cell_type": "code",
   "execution_count": null,
   "id": "0bca1791-95f8-4e76-bda1-7092ae37ab72",
   "metadata": {},
   "outputs": [],
   "source": []
  }
 ],
 "metadata": {
  "kernelspec": {
   "display_name": "Python 3 (ipykernel)",
   "language": "python",
   "name": "python3"
  },
  "language_info": {
   "codemirror_mode": {
    "name": "ipython",
    "version": 3
   },
   "file_extension": ".py",
   "mimetype": "text/x-python",
   "name": "python",
   "nbconvert_exporter": "python",
   "pygments_lexer": "ipython3",
   "version": "3.10.8"
  }
 },
 "nbformat": 4,
 "nbformat_minor": 5
}
